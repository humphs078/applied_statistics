{
 "cells": [
  {
   "cell_type": "markdown",
   "metadata": {
    "vscode": {
     "languageId": "powershell"
    }
   },
   "source": [
    "# Applied Statistics Module Project Notebook\n",
    "\n",
    "Author: Sean Humphreys\n",
    "\n",
    "Contact: sean@cruaghgreen.com\n",
    "\n",
    "This Jupyter Notebook contains the solutions to the project requirement for the 2024 Applied Statistics module on the ATU Mayo/Galway Higher Diploma in Science in Computing in Data Analytics."
   ]
  },
  {
   "cell_type": "markdown",
   "metadata": {},
   "source": [
    "## Contents\n",
    "\n",
    "1. [Problem Statement](#problem-statement)\n",
    "\n",
    "2. [Introduction](#introduction)\n",
    "\n",
    "3. [Software Libraries](#software-libraries)\n",
    "\n",
    "4. [Exploratory Data Analysis](#exploratory-data-analysis)\n",
    "\n",
    "5. [Data Visualisation](#data-visualisation)\n",
    "\n",
    "6. [t-Test](#t-test)\n",
    "\n",
    "7. [References](#references)"
   ]
  },
  {
   "cell_type": "markdown",
   "metadata": {},
   "source": [
    "## Problem Statement <a id=\"problem-statement\"></a>\n",
    "\n",
    "Analyze the [PlantGrowth R dataset](https://vincentarelbundock.github.io/Rdatasets/csv/datasets/PlantGrowth.csv).\n",
    "You will find [a short description](https://vincentarelbundock.github.io/Rdatasets/doc/datasets/PlantGrowth.html) of it on [Vicent Arel-Bundock's Rdatasets page](https://vincentarelbundock.github.io/Rdatasets/).\n",
    "The dataset contains two main variables, a treatment group and the weight of plants within those groups.\n",
    "\n",
    "Your task is to perform t-tests and ANOVA on this dataset while describing the dataset and explaining your work.\n",
    "In doing this you should:\n",
    "\n",
    "1. Download and save the dataset to your repository.\n",
    "\n",
    "2. Describe the data set in your notebook.\n",
    "\n",
    "3. Describe what a t-test is, how it works, and what the assumptions are.\n",
    "\n",
    "3. Perform a t-test to determine whether there is a significant difference between the two treatment groups `trt1` and `trt2`.\n",
    "\n",
    "4. Perform ANOVA to determine whether there is a significant difference between the three treatment groups `ctrl`, `trt1`, and `trt2`.\n",
    "\n",
    "5. Explain why it is more appropriate to apply ANOVA rather than several t-tests when analyzing more than two groups."
   ]
  },
  {
   "cell_type": "markdown",
   "metadata": {},
   "source": [
    "## Introduction <a id=\"introduction\"></a>\n",
    "\n",
    "<img src=\"images/project/fly_trap.jpeg\" alt=\"Venus Fly Trap\" style=\"height:300px;float:right;\">\n",
    "\n",
    "\n",
    "The book, *An Introduction to Statistical Modelling*, is about generalized linear models as described by Neider and Wedderburn. In the book Dobson (1983), describes an experiment conducted to compare yields (as measured by dried weight of plants) obtained under a control and two different treatment conditions.\n",
    "\n",
    "The plant weight, depends on one factor, growing condition, with three levels - control, treatment A and treatment B. In this case the samples are related - they are before and after measurements in the sense that two samples have had a treatment applied to them. In the experiment *..... genetically similar seeds are randomly assigned to be raised either in a nutritionally enriched environment (treatment) or under standard conditions (control) using a completely randomized experimental design* (Dobson, 1983, p9).\n",
    "\n",
    "*A null hypothesis is a type of statistical hypothesis that proposes that no statistical significance exists in a set of given observations* (Investopedia, n.d.).\n",
    "\n",
    "The plant experiment seeks to answer if the enriched environment made a difference to the weight of the plants. The null hypothesis (H<sub>0</sub>) is that the enriched environment made no difference to the weight of the plants. The alternative hypothesis (H<sub>a</sub>) is that the enriched environment made a difference to the weight of the plants.\n",
    "\n",
    "This notebook describes a statistical analysis of the plant data."
   ]
  },
  {
   "cell_type": "markdown",
   "metadata": {},
   "source": [
    "## Software Libraries <a id=\"software-libraries\"></a>\n",
    "\n",
    "The following software packages are used in this notebook:\n",
    "\n",
    "- [Matplotlib](https://matplotlib.org/) (https://matplotlib.org/ - last accessed 8 Nov. 2023) - is an open-source software library for creating static, animated, and interactive visualizations in Python.\n",
    "\n",
    "- [Pandas](https://pandas.pydata.org/) (https://pandas.pydata.org/ - last accessed 26 Sept. 2024) is an open-source software library used in data analytics that allows data analysis and manipulation. Pandas is built on top of the Python programming language. A Pandas DataFrame is a dictionary like container for series objects. A DataFrame is the primary Pandas data structure.\n",
    "\n",
    "- [SciPy](https://scipy.org/) (https://scipy.org/ - last accessed 29 Oct. 2024) provides algorithms for scientific computing in Python. SciPy is a portmanteau of Scientific Python. It is a scientific computation library that uses Numpy underneath.\n",
    "\n",
    "- [Seaborn](https://seaborn.pydata.org/) (https://seaborn.pydata.org/ - last accessed 23 Nov. 2023) - is visualisation software that is built on *matplotlib*. It offers a high-level interface for drawing attractive and informative statistical graphics.\n",
    "\n",
    "- [statsmodels](https://www.statsmodels.org/stable/index.html) (https://www.statsmodels.org/stable/index.html - last accessed 28 Nov. 2024) - is a module that provides classes and functions for the estimation of many different statistical models, as well as for conducting statistical tests, and statistical data exploration."
   ]
  },
  {
   "cell_type": "code",
   "execution_count": 21,
   "metadata": {},
   "outputs": [],
   "source": [
    "# import the required software libraries in the order they are used in the notebook\n",
    "import pandas as pd\n",
    "import matplotlib.pyplot as plt\n",
    "import seaborn as sns\n",
    "import scipy.stats as stats\n",
    "import statsmodels.stats.power as smp"
   ]
  },
  {
   "cell_type": "markdown",
   "metadata": {},
   "source": [
    "## Exploratory Data Analysis <a id=\"exploratory-data-analysis\"></a>"
   ]
  },
  {
   "cell_type": "markdown",
   "metadata": {},
   "source": [
    "**Describe the data set in your notebook.**\n",
    "\n",
    "The dataset is read in as a CSV (*comma separated value*) file using the *pandas* ```pd.read_csv()``` method. The data is stored in a *pandas dataframe*.\n",
    "\n",
    "[pd.read_csv()](https://pandas.pydata.org/docs/reference/api/pandas.read_csv.html#pandas-read-csv) - accessed 17th Nov. 2024."
   ]
  },
  {
   "cell_type": "code",
   "execution_count": 2,
   "metadata": {},
   "outputs": [],
   "source": [
    "data = pd.read_csv('datasets/plant_growth.csv')"
   ]
  },
  {
   "cell_type": "markdown",
   "metadata": {},
   "source": [
    "The resulting *dataframe* consists of 30 rows of data with three columns.\n",
    "\n",
    "[DataFrame.shape](https://pandas.pydata.org/docs/reference/api/pandas.DataFrame.shape.html#pandas-dataframe-shape) - accessed 17th Nov. 2024"
   ]
  },
  {
   "cell_type": "code",
   "execution_count": 3,
   "metadata": {},
   "outputs": [
    {
     "data": {
      "text/plain": [
       "(30, 3)"
      ]
     },
     "execution_count": 3,
     "metadata": {},
     "output_type": "execute_result"
    }
   ],
   "source": [
    "data.shape"
   ]
  },
  {
   "cell_type": "markdown",
   "metadata": {},
   "source": [
    "The pandas ```info()``` method is used to display information about the dataset - the data-types, the number of non-null values and the columns. The dataset has consists of three columns - *\"rownames\", \"weight\" and \"group\"*. The *weight* variable corresponds to the weight of the samples. The *group* variable identifies the group to which the weight results belong to. \n",
    "\n",
    "[pd.info()](https://pandas.pydata.org/docs/reference/api/pandas.DataFrame.info.html#pandas-dataframe-info) - accessed 17th Nov. 2024"
   ]
  },
  {
   "cell_type": "code",
   "execution_count": 4,
   "metadata": {},
   "outputs": [
    {
     "name": "stdout",
     "output_type": "stream",
     "text": [
      "<class 'pandas.core.frame.DataFrame'>\n",
      "RangeIndex: 30 entries, 0 to 29\n",
      "Data columns (total 3 columns):\n",
      " #   Column    Non-Null Count  Dtype  \n",
      "---  ------    --------------  -----  \n",
      " 0   rownames  30 non-null     int64  \n",
      " 1   weight    30 non-null     float64\n",
      " 2   group     30 non-null     object \n",
      "dtypes: float64(1), int64(1), object(1)\n",
      "memory usage: 852.0+ bytes\n"
     ]
    }
   ],
   "source": [
    "data.info()"
   ]
  },
  {
   "cell_type": "markdown",
   "metadata": {},
   "source": [
    "The ```isna()``` and the ```sum()``` methods are chained to count the number of missing values in the dataset. As demonstrated there are no missing values.\n",
    "\n",
    "[pd.isna()](https://pandas.pydata.org/docs/reference/api/pandas.DataFrame.isna.html#pandas.DataFrame.isna) - accessed 23rd Nov. 2024\n",
    "\n",
    "[pd.sum()](https://pandas.pydata.org/docs/reference/api/pandas.DataFrame.sum.html#pandas-dataframe-sum) - accessed 23rd Nov. 2024"
   ]
  },
  {
   "cell_type": "code",
   "execution_count": 5,
   "metadata": {},
   "outputs": [
    {
     "data": {
      "text/plain": [
       "rownames    0\n",
       "weight      0\n",
       "group       0\n",
       "dtype: int64"
      ]
     },
     "execution_count": 5,
     "metadata": {},
     "output_type": "execute_result"
    }
   ],
   "source": [
    "# https://www.aporia.com/resources/how-to/count-nan-values-dataframe/\n",
    "# accessed 17th Nov. 2024\n",
    "data.isna().sum()"
   ]
  },
  {
   "cell_type": "markdown",
   "metadata": {},
   "source": [
    "The ```value_counts()``` method in *pandas* is used to display the number of unique values in the *group* columns of the dataset. The group column consists of three categorical variables - \"ctrl\", \"trt1\" and \"trt2\".\n",
    "\n",
    "[pd.value_counts()](https://pandas.pydata.org/docs/reference/api/pandas.Series.value_counts.html#pandas-series-value-counts) - accessed 23 Nov. 2024"
   ]
  },
  {
   "cell_type": "code",
   "execution_count": 6,
   "metadata": {},
   "outputs": [
    {
     "data": {
      "text/plain": [
       "group\n",
       "ctrl    10\n",
       "trt1    10\n",
       "trt2    10\n",
       "Name: count, dtype: int64"
      ]
     },
     "execution_count": 6,
     "metadata": {},
     "output_type": "execute_result"
    }
   ],
   "source": [
    "data['group'].value_counts()"
   ]
  },
  {
   "cell_type": "markdown",
   "metadata": {},
   "source": [
    "The *pandas* ```head()``` and ```tail()``` functions display the first and last five rows odf the *dataframe*.\n",
    "\n",
    "[pd.head()](https://pandas.pydata.org/docs/reference/api/pandas.DataFrame.head.html#pandas-dataframe-head) - accessed 17th Nov. 2025\n",
    "\n",
    "[pd.tail()](https://pandas.pydata.org/docs/reference/api/pandas.DataFrame.tail.html#pandas-dataframe-tail) - accessed 17th Nov. 2025"
   ]
  },
  {
   "cell_type": "code",
   "execution_count": 7,
   "metadata": {},
   "outputs": [
    {
     "data": {
      "text/html": [
       "<div>\n",
       "<style scoped>\n",
       "    .dataframe tbody tr th:only-of-type {\n",
       "        vertical-align: middle;\n",
       "    }\n",
       "\n",
       "    .dataframe tbody tr th {\n",
       "        vertical-align: top;\n",
       "    }\n",
       "\n",
       "    .dataframe thead th {\n",
       "        text-align: right;\n",
       "    }\n",
       "</style>\n",
       "<table border=\"1\" class=\"dataframe\">\n",
       "  <thead>\n",
       "    <tr style=\"text-align: right;\">\n",
       "      <th></th>\n",
       "      <th>rownames</th>\n",
       "      <th>weight</th>\n",
       "      <th>group</th>\n",
       "    </tr>\n",
       "  </thead>\n",
       "  <tbody>\n",
       "    <tr>\n",
       "      <th>0</th>\n",
       "      <td>1</td>\n",
       "      <td>4.17</td>\n",
       "      <td>ctrl</td>\n",
       "    </tr>\n",
       "    <tr>\n",
       "      <th>1</th>\n",
       "      <td>2</td>\n",
       "      <td>5.58</td>\n",
       "      <td>ctrl</td>\n",
       "    </tr>\n",
       "    <tr>\n",
       "      <th>2</th>\n",
       "      <td>3</td>\n",
       "      <td>5.18</td>\n",
       "      <td>ctrl</td>\n",
       "    </tr>\n",
       "    <tr>\n",
       "      <th>3</th>\n",
       "      <td>4</td>\n",
       "      <td>6.11</td>\n",
       "      <td>ctrl</td>\n",
       "    </tr>\n",
       "    <tr>\n",
       "      <th>4</th>\n",
       "      <td>5</td>\n",
       "      <td>4.50</td>\n",
       "      <td>ctrl</td>\n",
       "    </tr>\n",
       "  </tbody>\n",
       "</table>\n",
       "</div>"
      ],
      "text/plain": [
       "   rownames  weight group\n",
       "0         1    4.17  ctrl\n",
       "1         2    5.58  ctrl\n",
       "2         3    5.18  ctrl\n",
       "3         4    6.11  ctrl\n",
       "4         5    4.50  ctrl"
      ]
     },
     "execution_count": 7,
     "metadata": {},
     "output_type": "execute_result"
    }
   ],
   "source": [
    "data.head(5)"
   ]
  },
  {
   "cell_type": "code",
   "execution_count": 8,
   "metadata": {},
   "outputs": [
    {
     "data": {
      "text/html": [
       "<div>\n",
       "<style scoped>\n",
       "    .dataframe tbody tr th:only-of-type {\n",
       "        vertical-align: middle;\n",
       "    }\n",
       "\n",
       "    .dataframe tbody tr th {\n",
       "        vertical-align: top;\n",
       "    }\n",
       "\n",
       "    .dataframe thead th {\n",
       "        text-align: right;\n",
       "    }\n",
       "</style>\n",
       "<table border=\"1\" class=\"dataframe\">\n",
       "  <thead>\n",
       "    <tr style=\"text-align: right;\">\n",
       "      <th></th>\n",
       "      <th>rownames</th>\n",
       "      <th>weight</th>\n",
       "      <th>group</th>\n",
       "    </tr>\n",
       "  </thead>\n",
       "  <tbody>\n",
       "    <tr>\n",
       "      <th>25</th>\n",
       "      <td>26</td>\n",
       "      <td>5.29</td>\n",
       "      <td>trt2</td>\n",
       "    </tr>\n",
       "    <tr>\n",
       "      <th>26</th>\n",
       "      <td>27</td>\n",
       "      <td>4.92</td>\n",
       "      <td>trt2</td>\n",
       "    </tr>\n",
       "    <tr>\n",
       "      <th>27</th>\n",
       "      <td>28</td>\n",
       "      <td>6.15</td>\n",
       "      <td>trt2</td>\n",
       "    </tr>\n",
       "    <tr>\n",
       "      <th>28</th>\n",
       "      <td>29</td>\n",
       "      <td>5.80</td>\n",
       "      <td>trt2</td>\n",
       "    </tr>\n",
       "    <tr>\n",
       "      <th>29</th>\n",
       "      <td>30</td>\n",
       "      <td>5.26</td>\n",
       "      <td>trt2</td>\n",
       "    </tr>\n",
       "  </tbody>\n",
       "</table>\n",
       "</div>"
      ],
      "text/plain": [
       "    rownames  weight group\n",
       "25        26    5.29  trt2\n",
       "26        27    4.92  trt2\n",
       "27        28    6.15  trt2\n",
       "28        29    5.80  trt2\n",
       "29        30    5.26  trt2"
      ]
     },
     "execution_count": 8,
     "metadata": {},
     "output_type": "execute_result"
    }
   ],
   "source": [
    "data.tail(5)"
   ]
  },
  {
   "cell_type": "markdown",
   "metadata": {},
   "source": [
    "Inspecting the first and last five rows of the dataset indicates that that the weight variable is a numerical variable that is continuous.\n",
    "\n",
    "Variable classification determines the type of analysis that can be carried out on that variable. The graphic below summarises the types of data and how they can be analysed.\n",
    "\n",
    "**Variable Classification Summary Table** (Summarised from Sharma, 2020)\n",
    "\n",
    "![data_classification](images/project/data_categories_18102023_sh.png \"Data Classification\")"
   ]
  },
  {
   "cell_type": "markdown",
   "metadata": {},
   "source": [
    "Each category group of results in the dataset can be assigned to separate datasets using the pandas `iloc()` method. The `iloc()` method allows for selection of specific rows and columns by providing integer indices.\n",
    "\n",
    "[pd.iloc()](https://pandas.pydata.org/docs/reference/api/pandas.DataFrame.iloc.html) - accessed 28th Nov. 2024."
   ]
  },
  {
   "cell_type": "code",
   "execution_count": 9,
   "metadata": {},
   "outputs": [],
   "source": [
    "ctrl = data.iloc[0:10]\n",
    "trt1 = data.iloc[10:20]\n",
    "trt2 = data.iloc[20:]"
   ]
  },
  {
   "cell_type": "markdown",
   "metadata": {},
   "source": [
    "The *pandas* ```describe()``` prints descriptive statistics including those that summarize the central tendency, dispersion and shape of a dataset’s distribution, excluding NaN values. Using this method allows for inspection of descriptive statistics on each group within the dataset. Examining the outputs of this method highlights that each of the three groups have different mean and median values suggesting that the three groups are in fact different. However, these results do not answer whether or not the three groups differ significantly from a statistical perspective. Also of note is that the standard deviation for each group are very close in value.\n",
    "\n",
    "[pd.describe()](https://pandas.pydata.org/docs/reference/api/pandas.DataFrame.describe.html#pandas-dataframe-describe) - accessed 17th Nov. 2024"
   ]
  },
  {
   "cell_type": "code",
   "execution_count": 10,
   "metadata": {},
   "outputs": [
    {
     "data": {
      "text/html": [
       "<div>\n",
       "<style scoped>\n",
       "    .dataframe tbody tr th:only-of-type {\n",
       "        vertical-align: middle;\n",
       "    }\n",
       "\n",
       "    .dataframe tbody tr th {\n",
       "        vertical-align: top;\n",
       "    }\n",
       "\n",
       "    .dataframe thead th {\n",
       "        text-align: right;\n",
       "    }\n",
       "</style>\n",
       "<table border=\"1\" class=\"dataframe\">\n",
       "  <thead>\n",
       "    <tr style=\"text-align: right;\">\n",
       "      <th></th>\n",
       "      <th>rownames</th>\n",
       "      <th>weight</th>\n",
       "    </tr>\n",
       "  </thead>\n",
       "  <tbody>\n",
       "    <tr>\n",
       "      <th>count</th>\n",
       "      <td>10.00000</td>\n",
       "      <td>10.000000</td>\n",
       "    </tr>\n",
       "    <tr>\n",
       "      <th>mean</th>\n",
       "      <td>5.50000</td>\n",
       "      <td>5.032000</td>\n",
       "    </tr>\n",
       "    <tr>\n",
       "      <th>std</th>\n",
       "      <td>3.02765</td>\n",
       "      <td>0.583091</td>\n",
       "    </tr>\n",
       "    <tr>\n",
       "      <th>min</th>\n",
       "      <td>1.00000</td>\n",
       "      <td>4.170000</td>\n",
       "    </tr>\n",
       "    <tr>\n",
       "      <th>25%</th>\n",
       "      <td>3.25000</td>\n",
       "      <td>4.550000</td>\n",
       "    </tr>\n",
       "    <tr>\n",
       "      <th>50%</th>\n",
       "      <td>5.50000</td>\n",
       "      <td>5.155000</td>\n",
       "    </tr>\n",
       "    <tr>\n",
       "      <th>75%</th>\n",
       "      <td>7.75000</td>\n",
       "      <td>5.292500</td>\n",
       "    </tr>\n",
       "    <tr>\n",
       "      <th>max</th>\n",
       "      <td>10.00000</td>\n",
       "      <td>6.110000</td>\n",
       "    </tr>\n",
       "  </tbody>\n",
       "</table>\n",
       "</div>"
      ],
      "text/plain": [
       "       rownames     weight\n",
       "count  10.00000  10.000000\n",
       "mean    5.50000   5.032000\n",
       "std     3.02765   0.583091\n",
       "min     1.00000   4.170000\n",
       "25%     3.25000   4.550000\n",
       "50%     5.50000   5.155000\n",
       "75%     7.75000   5.292500\n",
       "max    10.00000   6.110000"
      ]
     },
     "execution_count": 10,
     "metadata": {},
     "output_type": "execute_result"
    }
   ],
   "source": [
    "ctrl.describe()"
   ]
  },
  {
   "cell_type": "code",
   "execution_count": 11,
   "metadata": {},
   "outputs": [
    {
     "data": {
      "text/html": [
       "<div>\n",
       "<style scoped>\n",
       "    .dataframe tbody tr th:only-of-type {\n",
       "        vertical-align: middle;\n",
       "    }\n",
       "\n",
       "    .dataframe tbody tr th {\n",
       "        vertical-align: top;\n",
       "    }\n",
       "\n",
       "    .dataframe thead th {\n",
       "        text-align: right;\n",
       "    }\n",
       "</style>\n",
       "<table border=\"1\" class=\"dataframe\">\n",
       "  <thead>\n",
       "    <tr style=\"text-align: right;\">\n",
       "      <th></th>\n",
       "      <th>rownames</th>\n",
       "      <th>weight</th>\n",
       "    </tr>\n",
       "  </thead>\n",
       "  <tbody>\n",
       "    <tr>\n",
       "      <th>count</th>\n",
       "      <td>10.00000</td>\n",
       "      <td>10.000000</td>\n",
       "    </tr>\n",
       "    <tr>\n",
       "      <th>mean</th>\n",
       "      <td>15.50000</td>\n",
       "      <td>4.661000</td>\n",
       "    </tr>\n",
       "    <tr>\n",
       "      <th>std</th>\n",
       "      <td>3.02765</td>\n",
       "      <td>0.793676</td>\n",
       "    </tr>\n",
       "    <tr>\n",
       "      <th>min</th>\n",
       "      <td>11.00000</td>\n",
       "      <td>3.590000</td>\n",
       "    </tr>\n",
       "    <tr>\n",
       "      <th>25%</th>\n",
       "      <td>13.25000</td>\n",
       "      <td>4.207500</td>\n",
       "    </tr>\n",
       "    <tr>\n",
       "      <th>50%</th>\n",
       "      <td>15.50000</td>\n",
       "      <td>4.550000</td>\n",
       "    </tr>\n",
       "    <tr>\n",
       "      <th>75%</th>\n",
       "      <td>17.75000</td>\n",
       "      <td>4.870000</td>\n",
       "    </tr>\n",
       "    <tr>\n",
       "      <th>max</th>\n",
       "      <td>20.00000</td>\n",
       "      <td>6.030000</td>\n",
       "    </tr>\n",
       "  </tbody>\n",
       "</table>\n",
       "</div>"
      ],
      "text/plain": [
       "       rownames     weight\n",
       "count  10.00000  10.000000\n",
       "mean   15.50000   4.661000\n",
       "std     3.02765   0.793676\n",
       "min    11.00000   3.590000\n",
       "25%    13.25000   4.207500\n",
       "50%    15.50000   4.550000\n",
       "75%    17.75000   4.870000\n",
       "max    20.00000   6.030000"
      ]
     },
     "execution_count": 11,
     "metadata": {},
     "output_type": "execute_result"
    }
   ],
   "source": [
    "trt1.describe()"
   ]
  },
  {
   "cell_type": "code",
   "execution_count": 12,
   "metadata": {},
   "outputs": [
    {
     "data": {
      "text/html": [
       "<div>\n",
       "<style scoped>\n",
       "    .dataframe tbody tr th:only-of-type {\n",
       "        vertical-align: middle;\n",
       "    }\n",
       "\n",
       "    .dataframe tbody tr th {\n",
       "        vertical-align: top;\n",
       "    }\n",
       "\n",
       "    .dataframe thead th {\n",
       "        text-align: right;\n",
       "    }\n",
       "</style>\n",
       "<table border=\"1\" class=\"dataframe\">\n",
       "  <thead>\n",
       "    <tr style=\"text-align: right;\">\n",
       "      <th></th>\n",
       "      <th>rownames</th>\n",
       "      <th>weight</th>\n",
       "    </tr>\n",
       "  </thead>\n",
       "  <tbody>\n",
       "    <tr>\n",
       "      <th>count</th>\n",
       "      <td>10.00000</td>\n",
       "      <td>10.000000</td>\n",
       "    </tr>\n",
       "    <tr>\n",
       "      <th>mean</th>\n",
       "      <td>25.50000</td>\n",
       "      <td>5.526000</td>\n",
       "    </tr>\n",
       "    <tr>\n",
       "      <th>std</th>\n",
       "      <td>3.02765</td>\n",
       "      <td>0.442573</td>\n",
       "    </tr>\n",
       "    <tr>\n",
       "      <th>min</th>\n",
       "      <td>21.00000</td>\n",
       "      <td>4.920000</td>\n",
       "    </tr>\n",
       "    <tr>\n",
       "      <th>25%</th>\n",
       "      <td>23.25000</td>\n",
       "      <td>5.267500</td>\n",
       "    </tr>\n",
       "    <tr>\n",
       "      <th>50%</th>\n",
       "      <td>25.50000</td>\n",
       "      <td>5.435000</td>\n",
       "    </tr>\n",
       "    <tr>\n",
       "      <th>75%</th>\n",
       "      <td>27.75000</td>\n",
       "      <td>5.735000</td>\n",
       "    </tr>\n",
       "    <tr>\n",
       "      <th>max</th>\n",
       "      <td>30.00000</td>\n",
       "      <td>6.310000</td>\n",
       "    </tr>\n",
       "  </tbody>\n",
       "</table>\n",
       "</div>"
      ],
      "text/plain": [
       "       rownames     weight\n",
       "count  10.00000  10.000000\n",
       "mean   25.50000   5.526000\n",
       "std     3.02765   0.442573\n",
       "min    21.00000   4.920000\n",
       "25%    23.25000   5.267500\n",
       "50%    25.50000   5.435000\n",
       "75%    27.75000   5.735000\n",
       "max    30.00000   6.310000"
      ]
     },
     "execution_count": 12,
     "metadata": {},
     "output_type": "execute_result"
    }
   ],
   "source": [
    "trt2.describe()"
   ]
  },
  {
   "cell_type": "markdown",
   "metadata": {},
   "source": [
    "## Data Visualisation <a id=\"data-visualisation\"></a>"
   ]
  },
  {
   "cell_type": "markdown",
   "metadata": {},
   "source": [
    "The \"fivethirtyeight\" plot stye sheet is applied which tries to replicate the styles from [https://abcnews.go.com/538](https://abcnews.go.com/538) (last accessed 16. Oct 2024)."
   ]
  },
  {
   "cell_type": "code",
   "execution_count": 13,
   "metadata": {},
   "outputs": [],
   "source": [
    "# https://matplotlib.org/stable/gallery/style_sheets/style_sheets_reference.html \n",
    "# [Accessed 6 Dec. 2023]\n",
    "plt.style.use('fivethirtyeight')\n",
    "\n",
    "# set the default size for plots\n",
    "# https://stackoverflow.com/questions/332289/how-do-i-change-the-size-of-figures-drawn-with-matplotlib [Accessed 21 Oct. 2024]\n",
    "plt.rcParams[\"figure.figsize\"] = (10,5)\n",
    "\n",
    "#define a color palette\n",
    "palette=['#ff595e', '#8ac926', '#1982c4']"
   ]
  },
  {
   "cell_type": "markdown",
   "metadata": {},
   "source": [
    "The distribution of the data is visualised with the Seaborn ```histplot()``` method. The small sample sizes (n=10) for each group it is difficult to tell how the results are distributed. How the data is distributed will have an impact on the type of statistical analysis that cna be carried out on the results in the dataset.\n",
    "\n",
    "[sns.histplot()](https://seaborn.pydata.org/generated/seaborn.histplot.html#seaborn-histplot) - accessed 17th Nov. 2024."
   ]
  },
  {
   "cell_type": "code",
   "execution_count": 14,
   "metadata": {},
   "outputs": [
    {
     "data": {
      "image/png": "[encoded data removed]",
      "text/plain": [
       "<Figure size 1000x500 with 1 Axes>"
      ]
     },
     "metadata": {},
     "output_type": "display_data"
    }
   ],
   "source": [
    "# create an empty plot\n",
    "fig, ax = plt.subplots()\n",
    "\n",
    "# plot the data\n",
    "ax.hist(ctrl['weight'], alpha=0.5, color='#ff595e', label='ctrl')\n",
    "ax.hist(trt1['weight'], alpha=0.5, color='#8ac926', label='trt1')\n",
    "ax.hist(trt2['weight'], alpha=0.5, color='#1982c4', label='trt2')\n",
    "\n",
    "# annotate the plot\n",
    "ax.legend()\n",
    "ax.set_title('Distribution of Groupings')\n",
    "\n",
    "# show\n",
    "plt.show()"
   ]
  },
  {
   "cell_type": "markdown",
   "metadata": {},
   "source": [
    "Separating out the distribution for each group allows a clearer visualisation of the spread of each group of results but does not give any deep insight into the data."
   ]
  },
  {
   "cell_type": "code",
   "execution_count": 15,
   "metadata": {},
   "outputs": [
    {
     "data": {
      "image/png": "[encoded data removed]",
      "text/plain": [
       "<Figure size 1000x1500 with 3 Axes>"
      ]
     },
     "metadata": {},
     "output_type": "display_data"
    }
   ],
   "source": [
    "# create an empty plot.\n",
    "fig, ax = plt.subplots(3, 1, figsize=(10,15))\n",
    "\n",
    "# plot the data\n",
    "sns.histplot(data=ctrl, x=ctrl['weight'], ax=ax[0], color='#ff595e').set_title('ctrl Group Weight Distribution')\n",
    "sns.histplot(data=ctrl, x=trt1['weight'], ax=ax[1], color='#8ac926').set_title('trt1 Group Weight Distribution')\n",
    "sns.histplot(data=ctrl, x=trt2['weight'], ax=ax[2], color='#1982c4').set_title('trt2 Group Weight Distribution')\n",
    "\n",
    "# display the plot\n",
    "plt.tight_layout()\n",
    "plt.show()"
   ]
  },
  {
   "cell_type": "markdown",
   "metadata": {},
   "source": [
    "A Shapiro-Wilk statistical test can be performed on the data to accept the null hypothesis that the data is normally distributed. A test statistic close to one indicates that the data is likely to be normally distributed and a helps determine to reject or accept the null hypothesis (Humaizi, 2024). A common P-Value threshold is 0.05%. If the P-Value is greater than this threshold the null hypothesis is accepted.\n",
    "\n",
    "The Shapiro-Wilk test can be performed using the `shapiro()` function from the *scipy* library. Performing the Shapiro-Wilk test on each of the groups in the dataset confirms the null hypothesis that the groups are normally distributed the test statistic is close to one and the p-value is greater than 0.05% for each group of weights.\n",
    "\n",
    "[stats.shapiro()](https://docs.scipy.org/doc/scipy/reference/generated/scipy.stats.shapiro.html#shapiro) - accessed 28th Nov. 2024."
   ]
  },
  {
   "cell_type": "code",
   "execution_count": 16,
   "metadata": {},
   "outputs": [
    {
     "data": {
      "text/plain": [
       "ShapiroResult(statistic=0.9566814905276368, pvalue=0.7474734451902585)"
      ]
     },
     "execution_count": 16,
     "metadata": {},
     "output_type": "execute_result"
    }
   ],
   "source": [
    "stats.shapiro(ctrl['weight'])"
   ]
  },
  {
   "cell_type": "code",
   "execution_count": 17,
   "metadata": {},
   "outputs": [
    {
     "data": {
      "text/plain": [
       "ShapiroResult(statistic=0.9304106932921845, pvalue=0.45194395810927823)"
      ]
     },
     "execution_count": 17,
     "metadata": {},
     "output_type": "execute_result"
    }
   ],
   "source": [
    "stats.shapiro(trt1['weight'])"
   ]
  },
  {
   "cell_type": "code",
   "execution_count": 18,
   "metadata": {},
   "outputs": [
    {
     "data": {
      "text/plain": [
       "ShapiroResult(statistic=0.9410051970546394, pvalue=0.5642518926711526)"
      ]
     },
     "execution_count": 18,
     "metadata": {},
     "output_type": "execute_result"
    }
   ],
   "source": [
    "stats.shapiro(trt2['weight'])"
   ]
  },
  {
   "cell_type": "markdown",
   "metadata": {},
   "source": [
    "A boxplot *\".....is a graph that shows the dispersion and central tendency of a dataset using a five number summary\"* (Statistics How To, 2018). Boxplots demonstrate the maximum, minimum, median, outlier and interquartile range for the given dataset.\n",
    "\n",
    "Detailed information on how to read and interpret boxplots can be found at https://wellbeingatschool.org.nz/information-sheet/understanding-and-interpreting-box-plots [last accessed 14th Nov. 2025].\n",
    "\n",
    "Boxplots of each of the groups in the dataset confirms that each group has a different mean and median. Once again the question remains to be answered if these differences are statistically different."
   ]
  },
  {
   "cell_type": "code",
   "execution_count": 19,
   "metadata": {},
   "outputs": [],
   "source": [
    "# visualise the mean on boxplot\n",
    "#  based on code from - https://www.statology.org/seaborn-boxplot-mean/\n",
    "meanprops={'marker':'o', 'markerfacecolor':'white', \n",
    "           'markeredgecolor':'black', 'markersize':'8'}"
   ]
  },
  {
   "cell_type": "code",
   "execution_count": 20,
   "metadata": {},
   "outputs": [
    {
     "data": {
      "image/png": "[encoded data removed]",
      "text/plain": [
       "<Figure size 1000x500 with 1 Axes>"
      ]
     },
     "metadata": {},
     "output_type": "display_data"
    }
   ],
   "source": [
    "# create an empty plot.\n",
    "fig, ax = plt.subplots()\n",
    "\n",
    "# plot the data\n",
    "sns.boxplot(data=data, y=data['weight'], x='group', hue='group', \n",
    "            palette=palette, showmeans=True, meanprops=meanprops).set_title('Weight Boxplots')\n",
    "\n",
    "# show the results\n",
    "plt.show()"
   ]
  },
  {
   "cell_type": "markdown",
   "metadata": {},
   "source": [
    "## t Test <a id=\"t-test\"></a>\n",
    "\n",
    "<img src=\"images/task_3/william_sealy_gosset.jpg\" alt=\"William Sealy Gosset\" style=\"height:300px;float:right;\">\n",
    "\n",
    "An employee in the Guinness brewery (St. Jame's Gate Dublin), William Sealy Gosset (pictured), first published t-Tests in 1908 in the scientific journal Biometrika using the pseudonym \"Student\" (Wikipedia Contributors, 2019). Gosset found that existing statistical techniques using large samples were not useful for the small sample sizes that he encountered in his work (Britannica, 2019).\n",
    "\n",
    "<i>Imaged sourced https://en.wikipedia.org/wiki/Student%27s_t-test</i>\n",
    "\n",
    "**Question - What is a t-Test?**\n",
    "\n",
    "**Answer** - A t-Test, also known as the *Student’s t-test*, is a method of testing hypotheses about the mean of a small sample drawn from a normally distributed population when the population standard deviation is unknown (Britannica, 2019). t-tests are used to compare sample populations and infer conclusions about the larger population (builtin.com, n.d.). For tests involving the mean of a sample of size greater than 30 the normal distribution is usually applied (Britannica, 2019).\n",
    "\n",
    "There are two types of t-Tests:\n",
    "\n",
    "+ Independent t-Tests - compares the means between two unrelated groups on the same continuous, dependent variable (Laerd Statistics, 2018)\n",
    "\n",
    "+ The dependant t-test also called a paired t-Test - case where the samples are related, such as repeated measures on the same population (Brownlee, 2018)\n",
    "\n",
    "**Question - How does a t-Test work?**\n",
    "\n",
    "**Answer** - The test works by checking the means from two samples to see if they are significantly different from each other (Brownlee, 2018). It does this by calculating the standard error in the difference between means, which can be interpreted to see how likely the difference is, if the two samples have the same mean (the null hypothesis) (ibid.).\n",
    "\n",
    "**Question - What are the t-Test assumptions?**\n",
    "\n",
    "**Answer** - The following assumptions with respect to t-Tests are described by Maverick (2021).\n",
    "\n",
    "**1.** The scale of measurement applied to the data collected follows a continuous or ordinal scale.\n",
    "\n",
    "From exploratory data analysis carried out above, the *weight* variable in the dataset is confirmed as a continuous variable.\n",
    "\n",
    "**2.** The data is collected from a representative, randomly selected portion of the total population. \n",
    "\n",
    "Dobson(1983) confirms that genetically similar seeds are randomly assigned to be raised either in a nutritionally enriched environment (treatment) or under standard conditions (control) using a completely randomized experimental design.\n",
    "\n",
    "**3.** The data, when plotted, results in a normal distribution, bell-shaped distribution curve.\n",
    "\n",
    "The Shapiro-Wilk test confirms that the data for each group (*ctrl, trt1 & trt2*) are normally distributed.\n",
    "\n",
    "**4.** A reasonably large sample size is used. A larger sample size means the distribution of results should approach a normal bell-shaped curve.\n",
    "\n",
    "The word *reasonable* is subjective. As per Zach (2021) there is no minimum size for performing a t-Test and that the first t-Test had a sample size of four. If the sample size is too small then the power of the test could be too low to detect meaningful differences in the data (ibid). Without a definition of *reasonable sample size* one cannot say that a sample size of 10 meets the requirement for this assumption other.\n",
    "\n",
    "Statistical power refers to the probability that a test will detect some effect when there actually is one. It can be shown that the lower the sample size used, the lower the statistical power of a given test. The effect of the sample size is explored further in the next section.\n",
    "\n",
    "**5.** Equal variance exists when the standard deviations of samples are approximately equal.\n",
    "\n",
    "From the exploratory data analysis performed on the dataset the standard deviations of the samples in the dataset have been shown to be approximately equal.\n",
    "\n",
    "**Question** - Perform a t-test to determine whether there is a significant difference between the two treatment groups `trt1` and `trt2`.\n",
    "\n",
    "**Answer**\n",
    "\n",
    "As the measures on the groups *trt1* and *trt2* are not repeated measures on the same population an independent t-Test is the appropriate t-Test to carry out in this situation."
   ]
  },
  {
   "cell_type": "markdown",
   "metadata": {},
   "source": [
    "## References <a id=\"references\"></a>\n",
    "\n",
    "Britannica (2019). Student’s t-test | statistics. In: Encyclopædia Britannica. [online] Available at: https://www.britannica.com/science/Students-t-test. [Accessed 14th Nov 2024].\n",
    "\n",
    "Brownlee, J. (2018). How to Code the Student’s t-Test from Scratch in Python. [online] Machine Learning Mastery. Available at: https://machinelearningmastery.com/how-to-code-the-students-t-test-from-scratch-in-python/. [Accessed 18th Nov. 2024]\n",
    "\n",
    "builtin.com. (n.d.). How to Do a T-Test in Python | Built In. [online] Available at: https://builtin.com/data-science/t-test-python. [Accessed 14th Nov 2024].\n",
    "\n",
    "Dobson, A.J. (1983). Introduction to Statistical Modelling. Springer US.\n",
    "\n",
    "Humaizi, A. (2024). 10.0 Shapiro-Wilk test - Ahmad Humaizi - Medium. [online] Medium. Available at: https://medium.com/@maizi5469/10-0-shapiro-wilk-test-5be38fd3c2a6. [Accessed 29 Oct. 2024].\n",
    "\n",
    "Investopedia. (n.d.). Null Hypothesis: What Is It and How Is It Used in Investing? [online] Available at: https://www.investopedia.com/terms/n/null_hypothesis.asp#toc-what-is-a-null-hypothesis. [Accessed 18th Oct. 2024].\n",
    "\n",
    "Khryplyvyi, A. (2022). How to Count the NaN Values in a DataFrame. [online] Aporia. Available at: https://www.aporia.com/resources/how-to/count-nan-values-dataframe/ [Accessed 26 Sep. 2024].\n",
    "\n",
    "Kim, S. (2022). Create Jupyter Notebook that runs everywhere. [online] Medium. Available at: Create Jupyter Notebook that runs everywhere [Accessed 26 Sep. 2024].\n",
    "\n",
    "Laerd Statistics (2018). Independent t-test in SPSS Statistics - Procedure, output and interpretation of the output using a relevant example | Laerd Statistics. [online] Laerd.com. Available at: https://statistics.laerd.com/spss-tutorials/independent-t-test-using-spss-statistics.php. [Accessed 18th Nov. 2024].\n",
    "\n",
    "Matplotlib (2012). Matplotlib: Python plotting — Matplotlib 3.1.1 documentation. [online] Matplotlib.org. Available at: https://matplotlib.org/. [Accessed 17th. Nov. 2024].\n",
    "\n",
    "Maverick, J.B. (2021). What assumptions are made when conducting a t-test? [online] Investopedia. Available at: https://www.investopedia.com/ask/answers/073115/what-assumptions-are-made-when-conducting-ttest.asp. [Accessed 14th Nov 2024].\n",
    "\n",
    "pandas.pydata.org. (n.d.). pandas documentation — pandas 1.0.3 documentation. [online] Available at: https://pandas.pydata.org/docs/index.html. [Accessed 17th Nov. 2024].\n",
    "\n",
    "SciPy (2020). SciPy.org — SciPy.org. [online] Scipy.org. Available at: https://scipy.org/. [Accessed 28th Nov. 2024].\n",
    "\n",
    "seaborn (2012). seaborn: statistical data visualization — seaborn 0.9.0 documentation. [online] Pydata.org. Available at: https://seaborn.pydata.org/. [Accessed 17th Nov. 2024].\n",
    "\n",
    "Statistics How To (2018). Box Plot (Box and Whiskers): How to Read One & How to Make One in Excel, TI-83, SPSS - Statistics How to. [online] Statistics How to. Available at: https://www.statisticshowto.com/probability-and-statistics/descriptive-statistics/box-plot/. [Accessed 28th Noc 2024].\n",
    "\n",
    "Sharma, R. (2020). 4 Types of Data: Nominal, Ordinal, Discrete, Continuous. [online] upGrad blog. Available at: https://www.upgrad.com/blog/types-of-data/. [Accessed 17 Nov. 2023].\n",
    "\n",
    "Wikipedia Contributors (2019). Student’s t-test. [online] Wikipedia. Available at: https://en.wikipedia.org/wiki/Student%27s_t-test. [Accessed 14th Nov 2024].\n",
    "\n",
    "Zach (2021). The Minimum Sample Size for a t-test: Explanation & Example. [online] Statology. Available at: https://www.statology.org/minimum-sample-size-for-t-test/. [Accessed 14th Nov 2024]."
   ]
  },
  {
   "cell_type": "markdown",
   "metadata": {},
   "source": [
    "---"
   ]
  },
  {
   "cell_type": "markdown",
   "metadata": {},
   "source": [
    "Notebook ends."
   ]
  }
 ],
 "metadata": {
  "kernelspec": {
   "display_name": "base",
   "language": "python",
   "name": "python3"
  },
  "language_info": {
   "codemirror_mode": {
    "name": "ipython",
    "version": 3
   },
   "file_extension": ".py",
   "mimetype": "text/x-python",
   "name": "python",
   "nbconvert_exporter": "python",
   "pygments_lexer": "ipython3",
   "version": "3.11.9"
  }
 },
 "nbformat": 4,
 "nbformat_minor": 2
}
