{
 "cells": [
  {
   "cell_type": "markdown",
   "metadata": {},
   "source": [
    "# Applied Statistics Tasks Notebook\n",
    "\n",
    "Author: Sean Humphreys\n",
    "\n",
    "Contact: sean@cruaghgreen.com\n",
    "\n",
    "This Jupyter Notebook contains the solutions to the tasks for the 2024 Applied Statistics module on the ATU Mayo/Galway Higher Diploma in Science in Computing in Data Analytics"
   ]
  },
  {
   "cell_type": "markdown",
   "metadata": {},
   "source": [
    "## Contents"
   ]
  },
  {
   "cell_type": "markdown",
   "metadata": {},
   "source": [
    "## Software Libraries\n",
    "\n",
    "The following software libraries are used in this notebook:\n",
    "\n",
    "+ [Math](https://docs.python.org/3/library/math.html) (https://docs.python.org/3/library/math.html - last accessed 16. Oct 2024) The math library provides access to the mathematical functions defined by the C standard.\n",
    "\n",
    "+ [Itertools](https://docs.python.org/3/library/itertools.html#module-itertools) (https://docs.python.org/3/library/itertools.html#module-itertools - last accessed 16. Oct 2024). The itertools library is native within python. It provides functions creating iterators for efficient looping.\n",
    "\n",
    "+ [Random](https://docs.python.org/3/library/random.html) (https://docs.python.org/3/library/random.html - last accessed 16. Oct 2024) The random library implements pseudo-random number generators for various distributions.\n",
    "\n",
    "+ [Matplotlib](https://matplotlib.org/) (https://matplotlib.org/ - last accessed 16. Oct 2024)  - is an open-source software library for creating static, animated, and interactive visualisations in Python.\n",
    "\n",
    "+ [Numpy](https://numpy.org/doc/stable/index.html) (https://numpy.org/doc/stable/index.html - last accessed 16. Oct 2024) - is an open-source software library for the Python, adding support for large, multi-dimensional arrays and matrices, along with a large collection of high-level mathematical functions to operate on these arrays."
   ]
  },
  {
   "cell_type": "code",
   "execution_count": 1,
   "metadata": {},
   "outputs": [],
   "source": [
    "# import the required software libraries in the order they are used in the notebook\n",
    "import math\n",
    "import itertools\n",
    "import random\n",
    "import matplotlib.pyplot as plt\n",
    "import numpy as np"
   ]
  },
  {
   "cell_type": "markdown",
   "metadata": {},
   "source": [
    "## Data Visualisation\n",
    "\n",
    "The \"fivethirtyeight\" plot stye sheet is applied which tries to replicate the styles from [https://abcnews.go.com/538](https://abcnews.go.com/538) (last accessed 16. Oct 2024)."
   ]
  },
  {
   "cell_type": "code",
   "execution_count": 2,
   "metadata": {},
   "outputs": [],
   "source": [
    "# plot styling \n",
    "# https://matplotlib.org/stable/gallery/style_sheets/style_sheets_reference.html [Accessed 16 Oct. 2023]\n",
    "plt.style.use('fivethirtyeight')\n",
    "\n",
    "# set the default size of plots\n",
    "# https://stackoverflow.com/questions/332289/how-do-i-change-the-size-of-figures-drawn-with-matplotlib [Accessed 21 Oct. 2024]\n",
    "plt.rcParams[\"figure.figsize\"] = (10,5)"
   ]
  },
  {
   "cell_type": "markdown",
   "metadata": {},
   "source": [
    "---"
   ]
  },
  {
   "cell_type": "markdown",
   "metadata": {
    "vscode": {
     "languageId": "plaintext"
    }
   },
   "source": [
    "## Task 1: Permutations and Combinations"
   ]
  },
  {
   "cell_type": "markdown",
   "metadata": {},
   "source": [
    "### Problem Statement\n",
    "\n",
    "Suppose the Lady Tasting Tea experiment is altered to involve twelve cups of tea. Six have the milk in first and the other six having tea in first. A person claims that they have the special power of being able to tell if the tea or the milk went into a cup first upon tasting it. You agree to accept their claim if they can tell which of the six cups in your experiment had the milk in first.\n",
    "\n",
    "1. Calculate, using Python, the probability that they select the correct six cups. \n",
    "\n",
    "Suppose, now, you are willing to accept one error. Once they select the six cups they think had the milk in first, you will give them the benefit of the doubt should they have selected at least five of the correct cups. \n",
    "\n",
    "2. Calculate the probability, assuming they have no special powers, that the person makes at most one error.\n",
    "\n",
    "3. Would you accept two errors? Explain."
   ]
  },
  {
   "cell_type": "markdown",
   "metadata": {
    "vscode": {
     "languageId": "plaintext"
    }
   },
   "source": [
    "### Introduction\n",
    "\n",
    "<img src=\"https://upload.wikimedia.org/wikipedia/commons/a/aa/Youngronaldfisher2.JPG\" alt=\"Alt text\" style=\"height:300px;float:right;\">\n",
    "\n",
    "The [*Lady Tasting Tea Experiment*](https://en.wikipedia.org/wiki/Lady_tasting_tea) (https://en.wikipedia.org/wiki/Lady_tasting_tea)  is an experiment devised by [Sir Ronald Fisher](https://en.wikipedia.org/wiki/Ronald_Fisher) (https://en.wikipedia.org/wiki/Ronald_Fisher) to test the null hypothesis.\n",
    "\n",
    "\n",
    "Purported to be loosely based on an event in Fisher's life, the experiment is based on a claim by a lady friend of Fisher's that when presented with a cup of tea she could that she could discern whether the milk or the tea was poured into her cup first. In the experiment the lady is presented with eight cups of tea, four of which have the milk poured first and four of which have the tea poured first. Fisher's lady friend is then asked to select which cups have the milk poured first. The probability of the lady being able to select the four cups, with milk poured first, correctly is low enough that this outcome would be unlikely.\n",
    "\n",
    "![tea cups](images/task_1/tea_cups.png \"tea cups\")\n",
    "\n",
    "<i>Imaged sourced https://brainder.org/2015/08/23/the-lady-tasting-tea-and-fishers-exact-test/</i>\n",
    "\n",
    "\n",
    "### Null Hypothesis\n",
    "*A null hypothesis is a type of statistical hypothesis that proposes that no statistical significance exists in a set of given observations* (Investopedia, n.d.). The null hypothesis is denoted by H<sub>0</sub>. In the *Lady Tasting Tea Experiment* the Null Hypothesis is that the lady has no special ability to tell is the milk was pouted into the cup of tea before the tea.\n",
    "\n",
    "The statement that is being tested against the null hypothesis is the alternative hypothesis. The alternative hypothesis is denoted by H<sub>a</sub>. \n",
    "\n",
    "H<sub>0</sub> and H<sub>a</sub> are mutually exclusive (Majaski, 2024). Only one can be true. However, one of the two hypotheses will always be true. \n",
    "\n",
    "The statistical likelihood of the lady correctly selecting the four cups of tea with milk poured first was so low that it would be surprising for this to happen. In this case Fisher was willing to reject null hypothesis."
   ]
  },
  {
   "cell_type": "markdown",
   "metadata": {},
   "source": [
    "### Assumptions\n",
    "\n",
    "1. H<sub>0</sub> is that the lady has no special powers in figuring it out, she is randomly guessing which cups had the milk poured in first.\n",
    "\n",
    "2. H<sub>a</sub> is that the lady can tell the difference between cups of tea that have the milk poured in first and cups of tea that had the tea poured in first.\n",
    "\n",
    "3. There is no replacement once a cup has been selected. That is to say that the first cup is selected from a total of twelve cups, the second from a pool of eleven cups, the third from a pool of ten cups, etc.\n",
    "\n",
    "4. The order in which the cups of tea with milk poured are selected first doesn't matter, the lady just has to correctly identify the six cups."
   ]
  },
  {
   "cell_type": "markdown",
   "metadata": {},
   "source": [
    "#### Calculate, using Python, the probability that they select the correct six cups.\n",
    "\n",
    "Firstly, using Python calculate the number of permutations for twelve cups."
   ]
  },
  {
   "cell_type": "code",
   "execution_count": 3,
   "metadata": {},
   "outputs": [],
   "source": [
    "# assign the total number of cups to a variable\n",
    "total_no_cups = 12\n",
    "\n",
    "# define a function to return the factorial of an int\n",
    "# based on code found here: https://www.programiz.com/python-programming/examples/factorial\n",
    "\n",
    "def fact(num):\n",
    "    factorial=1\n",
    "    for i in range(1,num + 1):\n",
    "        factorial = factorial*i\n",
    "    return factorial"
   ]
  },
  {
   "cell_type": "code",
   "execution_count": 4,
   "metadata": {},
   "outputs": [
    {
     "name": "stdout",
     "output_type": "stream",
     "text": [
      "The total number of permutations for 12 cups is 479001600.\n"
     ]
    }
   ],
   "source": [
    "perms_total = fact(total_no_cups)\n",
    "print(f'The total number of permutations for {total_no_cups} cups is {perms_total}.')"
   ]
  },
  {
   "cell_type": "markdown",
   "metadata": {},
   "source": [
    "The order in which the cups with milk in first are selected doesn't matter, the lady has to select the six cups with milk in first. To calculate the number of possible combinations that the six cups with milk in first can be selected can be expressed as:\n",
    "\n",
    "$6 \\times 5 \\times 4 \\times 3 \\times 2 \\times 1 = 6! = 720$\n",
    "\n",
    "The total number of cups selected = $r$\n",
    "\n",
    "The total number of combinations possible is $r!$\n",
    "\n",
    "Calculating $r!$ with Python:"
   ]
  },
  {
   "cell_type": "code",
   "execution_count": 5,
   "metadata": {},
   "outputs": [
    {
     "name": "stdout",
     "output_type": "stream",
     "text": [
      "The total number of combination for 6 cups is 720.\n"
     ]
    }
   ],
   "source": [
    "# assign the number of cups selected to a variable\n",
    "no_of_cups_selected = 6\n",
    "\n",
    "combs_total = fact(no_of_cups_selected)\n",
    "print(f'The total number of combination for {no_of_cups_selected} cups is {combs_total}.')"
   ]
  },
  {
   "cell_type": "markdown",
   "metadata": {},
   "source": [
    "Dividing the total number permutations by the total number of combinations would be incorrect as it does not reduce it by how many ways the six cups could be in order. Adjusting this caclulation to take this into account is expressed as\n",
    "\n",
    "$\\binom {n}{r} = {\\frac {n!}{r!(n-r)!}}$\n",
    "\n",
    "This is also known as n choose r (Mathsisfun.com, 2017). In this specific example it is 12 choose 6.\n",
    "\n",
    "Using Python to calculate the chance of selecting the six cups with milk in first:"
   ]
  },
  {
   "cell_type": "code",
   "execution_count": 6,
   "metadata": {},
   "outputs": [
    {
     "name": "stdout",
     "output_type": "stream",
     "text": [
      "The chance of selecting the six milk in first cups out of the twelve cups is a 1 in 924 chance.\n",
      "The probability is 0.0010822510822510823\n"
     ]
    }
   ],
   "source": [
    "# n!/r!(n-r)!\n",
    "ans = perms_total//(combs_total*(fact(total_no_cups-no_of_cups_selected)))\n",
    "print(f'The chance of selecting the six milk in first cups out of the' \n",
    "      f' twelve cups is a 1 in {ans} chance.\\nThe probability is {1/ans}')"
   ]
  },
  {
   "cell_type": "markdown",
   "metadata": {},
   "source": [
    "This can be validated using the in built ```math comb()``` (https://docs.python.org/3/library/math.html#math.comb (https://docs.python.org/3/library/math.html#math.comb) method in Python.\n",
    "\n",
    "This function \"*returns the number of ways picking k unordered outcomes from n possibilities, without repetition, also known as combinations*\" (www.w3schools.com, n.d.)."
   ]
  },
  {
   "cell_type": "code",
   "execution_count": 7,
   "metadata": {},
   "outputs": [
    {
     "name": "stdout",
     "output_type": "stream",
     "text": [
      "Your manually calculated solution of 924 is correct\n"
     ]
    }
   ],
   "source": [
    "ans_2 = math.comb(12,6)\n",
    "\n",
    "if ans == ans_2:\n",
    "    print(f'Your manually calculated solution of {ans} is correct')\n",
    "else:\n",
    "    print('Your manually calculated solution is incorrect.')"
   ]
  },
  {
   "cell_type": "markdown",
   "metadata": {},
   "source": [
    "**Answer** - the probability that they select the correct six cups is 0.001 (rounded)."
   ]
  },
  {
   "cell_type": "markdown",
   "metadata": {},
   "source": [
    "#### Calculate the probability, assuming they have no special powers, that the person makes at most one error.\n",
    "\n",
    "To *make at most one error* the lady can either:\n",
    "\n",
    "1. choose six cups correctly from twelve \n",
    "\n",
    "or\n",
    "\n",
    "2. five cups correctly from the six cups that were chosen.\n",
    "\n",
    "In scenario 1, as previously demonstrated by using the ``math.comb(12,6)`` function, there is a 1 in 924 chance of selecting the six cups with milk in first correctly. There is only one way to correctly select six cups.\n",
    "\n",
    "In scenario 2 the lady still chooses six cups. Of those six cups five are correct. Mathematically the number of ways to do this is expressed as $\\binom {6}{5}$ (6 choose 5).\n",
    "\n",
    "Calculating $\\binom {6}{5}$ with python:"
   ]
  },
  {
   "cell_type": "code",
   "execution_count": 8,
   "metadata": {},
   "outputs": [
    {
     "data": {
      "text/plain": [
       "6"
      ]
     },
     "execution_count": 8,
     "metadata": {},
     "output_type": "execute_result"
    }
   ],
   "source": [
    "math.comb(6,5)"
   ]
  },
  {
   "cell_type": "markdown",
   "metadata": {},
   "source": [
    "Independently of choosing five correct cups from six the lady must choose one incorrect cup from 6: "
   ]
  },
  {
   "cell_type": "code",
   "execution_count": 9,
   "metadata": {},
   "outputs": [
    {
     "data": {
      "text/plain": [
       "6"
      ]
     },
     "execution_count": 9,
     "metadata": {},
     "output_type": "execute_result"
    }
   ],
   "source": [
    "math.comb(6,1)"
   ]
  },
  {
   "cell_type": "markdown",
   "metadata": {},
   "source": [
    "$\\therefore$ the number of combinations to select five correct cups $= 6 \\times 6 = 36$\n",
    "\n",
    "Adding the outcome of scenario 1 and 2:\n",
    "\n",
    "$\\frac {1}{924} + \\frac {36}{924} = \\frac {37}{924}$"
   ]
  },
  {
   "cell_type": "code",
   "execution_count": 10,
   "metadata": {},
   "outputs": [
    {
     "name": "stdout",
     "output_type": "stream",
     "text": [
      "The probability that the person makes at most one error is 0.04004329004329004.\n"
     ]
    }
   ],
   "source": [
    "ans_3 = 37/924\n",
    "\n",
    "print(f'The probability that the person makes at most one error is {ans_3}.')"
   ]
  },
  {
   "cell_type": "markdown",
   "metadata": {},
   "source": [
    "An alternative demonstration of this is presented below and is based on lecture material (Mc Donald, 2024).\n",
    "\n",
    "Each of the cups is assigned a label, in this instance a number."
   ]
  },
  {
   "cell_type": "code",
   "execution_count": 11,
   "metadata": {},
   "outputs": [
    {
     "data": {
      "text/plain": [
       "[0, 1, 2, 3, 4, 5, 6, 7, 8, 9, 10, 11]"
      ]
     },
     "execution_count": 11,
     "metadata": {},
     "output_type": "execute_result"
    }
   ],
   "source": [
    "# cup labels.\n",
    "labels = list(range(total_no_cups))\n",
    "\n",
    "# display labels list\n",
    "labels"
   ]
  },
  {
   "cell_type": "markdown",
   "metadata": {},
   "source": [
    "Out of the 12 labelled cups 6 are chosen."
   ]
  },
  {
   "cell_type": "code",
   "execution_count": 12,
   "metadata": {},
   "outputs": [
    {
     "name": "stdout",
     "output_type": "stream",
     "text": [
      "There are 924 possible combinations of 6 labels with no repetition.\n"
     ]
    }
   ],
   "source": [
    "# Show the different ways of selecting 6 cups with milk_first out of 12 cups of tea.\n",
    "# https://docs.python.org/3/library/itertools.html#module-itertools\n",
    "combinations_of_milk_first = list(itertools.combinations(labels, no_of_cups_selected))\n",
    "\n",
    "print(f'There are {len(combinations_of_milk_first)} possible combinations of 6 labels'\n",
    "      ' with no repetition.')\n",
    "\n",
    "# The set of all possible combinations of 6 labels\n",
    "combinations_of_milk_first;"
   ]
  },
  {
   "cell_type": "markdown",
   "metadata": {},
   "source": [
    "Randomly selecting one of these combinations"
   ]
  },
  {
   "cell_type": "code",
   "execution_count": 13,
   "metadata": {},
   "outputs": [
    {
     "data": {
      "text/plain": [
       "[6, 9, 1, 11, 10, 2]"
      ]
     },
     "execution_count": 13,
     "metadata": {},
     "output_type": "execute_result"
    }
   ],
   "source": [
    "# Select six cups at random to put milk in first.\n",
    "# https://docs.python.org/3/library/random.html#random.sample\n",
    "ladies_choice = random.sample(labels, 6)\n",
    "\n",
    "# Assume these are the six cups randomly selected by the lady\n",
    "ladies_choice"
   ]
  },
  {
   "cell_type": "markdown",
   "metadata": {},
   "source": [
    "Calculate the overlap between each element of combs and ladies_choice."
   ]
  },
  {
   "cell_type": "code",
   "execution_count": 14,
   "metadata": {},
   "outputs": [],
   "source": [
    "no_overlaps = []\n",
    "\n",
    "for combination in combinations_of_milk_first:\n",
    "  # Turn comb into a set.\n",
    "  s1 = set(combination)\n",
    "  # Turn ladies_choice into a set.\n",
    "  s2 = set(ladies_choice)\n",
    "  # Figure out where they overlap.\n",
    "  overlap = s1.intersection(s2)\n",
    "  \n",
    "  # Append overlap to no_overlaps.\n",
    "  no_overlaps.append(len(overlap))"
   ]
  },
  {
   "cell_type": "code",
   "execution_count": 15,
   "metadata": {},
   "outputs": [
    {
     "data": {
      "text/plain": [
       "(array([0, 1, 2, 3, 4, 5, 6]), array([  1,  36, 225, 400, 225,  36,   1]))"
      ]
     },
     "execution_count": 15,
     "metadata": {},
     "output_type": "execute_result"
    }
   ],
   "source": [
    "# Count the number of times each overlap occurs.\n",
    "counts = np.unique(no_overlaps, return_counts=True)\n",
    "\n",
    "# Show.\n",
    "counts"
   ]
  },
  {
   "cell_type": "code",
   "execution_count": 16,
   "metadata": {},
   "outputs": [],
   "source": [
    "x_counts = counts[1]"
   ]
  },
  {
   "cell_type": "markdown",
   "metadata": {},
   "source": [
    "Displaying the number of combinations of correct cups guessed on a bar chart shows a symmetry that resembles a standard distribution."
   ]
  },
  {
   "cell_type": "code",
   "execution_count": 17,
   "metadata": {},
   "outputs": [
    {
     "data": {
      "image/png": "[encoded data removed]",
      "text/plain": [
       "<Figure size 1000x500 with 1 Axes>"
      ]
     },
     "metadata": {},
     "output_type": "display_data"
    }
   ],
   "source": [
    "plt.bar(counts[0], counts[1])\n",
    "plt.title('Milk First Combinations')\n",
    "plt.ylabel('Count')\n",
    "plt.xlabel('No of combinations of correct cups guessed')\n",
    "for index, da in enumerate(x_counts):\n",
    "    plt.text(x=index, y=da+1, s=f'{da}')\n",
    "plt.tight_layout()\n",
    "plt.show()"
   ]
  },
  {
   "cell_type": "markdown",
   "metadata": {},
   "source": [
    "**Answer** - the probability, assuming they have no special powers, that the person makes at most one error is 0.04 (rounded)."
   ]
  },
  {
   "cell_type": "markdown",
   "metadata": {},
   "source": [
    "#### Would you accept two errors? Explain.\n",
    "\n",
    "Calculating the probability of two errors:\n",
    "\n",
    "$\\frac {225}{924} + \\frac {36}{924} + \\frac {1}{924} = 0.28$ (rounded)"
   ]
  },
  {
   "cell_type": "code",
   "execution_count": 18,
   "metadata": {},
   "outputs": [
    {
     "data": {
      "text/plain": [
       "0.28354978354978355"
      ]
     },
     "execution_count": 18,
     "metadata": {},
     "output_type": "execute_result"
    }
   ],
   "source": [
    "# using python to calculate the probability of at most two errors\n",
    "\n",
    "((math.comb(12,6)/924) + (math.comb(6,5) * math.comb(6,1)) \n",
    " + (math.comb(6,4) * math.comb(6,2)))/924"
   ]
  },
  {
   "cell_type": "markdown",
   "metadata": {},
   "source": [
    "In most cases, the predetermined level of significance for rejecting the null hypothesis will be 0.05 (Bevans, 2019). That is, when there is a less than 5% chance that one would see these results if the null hypothesis were true.\n",
    "\n",
    "The probability of the lady selecting the six correct cups is 1 in 924 (p=0.1%). This is extremely rare. The chance of it happening at random is low thus H<sub>0</sub> can be accepted. In theory the lady could select the six cups by random chance on her first attempt. This could be mitigated against by running the experiment multiple times.\n",
    "\n",
    "The probability of the lady selecting the six cups but allowing for two errors is slightly higher 1 in 4 (p = 28%). This is greater than the 5% threshold for accepting H<sub>0</sub>. The chance of it occurring at random is high.\n",
    "\n",
    "In this case, if one was to reject the H<sub>0</sub> and accept H<sub>a</sub> there is a risk of a false positive. One accepts that the lady has the ability to discern when milk was poured first into the cup when in reality she has no special ability.\n",
    "\n",
    "**Answer** - I would not reject the null hypothesis, or accept two errors, as the the risk of as false positive is too great."
   ]
  },
  {
   "cell_type": "markdown",
   "metadata": {},
   "source": [
    "### References\n",
    "\n",
    "Bevans, R. (2019). Hypothesis Testing | A Step-by-Step Guide with Easy Examples. [online] Scribbr. Available at: https://www.scribbr.com/statistics/hypothesis-testing/. [Accessed 20th Oct. 2024].\n",
    "\n",
    "Investopedia. (n.d.). Null Hypothesis: What Is It and How Is It Used in Investing? [online] Available at: https://www.investopedia.com/terms/n/null_hypothesis.asp#toc-what-is-a-null-hypothesis. [Accessed 18th Oct. 2024].\n",
    "\n",
    "Majaski, C. (2024). Hypothesis Testing: 4 Steps and Example. [online] Investopedia. Available at: https://www.investopedia.com/terms/h/hypothesistesting.asp#toc-how-hypothesis-testing-works [Accessed 20 Oct. 2024].\n",
    "\n",
    "Mathsisfun.com. (2017). Combinations and Permutations. [online] Available at: https://www.mathsisfun.com/combinatorics/combinations-permutations.html. [Accessed 10th Oct. 2024].\n",
    "\n",
    "Mc Donald, I. (2024) '02_lady_tasting_tea.ipynb', *8651 Applied Statistics*, Atlantic Technical University. October 2024.\n",
    "\n",
    "Wikipedia Contributors (2019). Lady tasting tea. [online] Wikipedia. Available at: https://en.wikipedia.org/wiki/Lady_tasting_tea. [Accessed 10th Oct. 2024].\n",
    "\n",
    "Wikipedia Contributors (2019). Ronald Fisher. [online] Wikipedia. Available at: https://en.wikipedia.org/wiki/Ronald_Fisher. [Accessed 10th Oct. 2024].\n",
    "\n",
    "Winkler, A.M. (2015). The lady tasting tea experiment. [online] Brainder. Available at: https://brainder.org/2015/08/23/the-lady-tasting-tea-and-fishers-exact-test/. [Accessed 10th Oct. 2024].\n",
    "\n",
    "www.programiz.com. (n.d.). Python Program to Find the Factorial of a Number. [online] Available at: https://www.programiz.com/python-programming/examples/factorial. [Accessed 10th Oct. 2024].\n",
    "\n",
    "www.w3schools.com. (n.d.). Python math.comb() Method. [online] Available at: https://www.w3schools.com/python/ref_math_comb.asp.  [Accessed 16th Oct. 2024]."
   ]
  },
  {
   "cell_type": "markdown",
   "metadata": {},
   "source": [
    "---"
   ]
  },
  {
   "cell_type": "markdown",
   "metadata": {},
   "source": [
    "## Task 2: Numpy's Normal Distribution"
   ]
  },
  {
   "cell_type": "markdown",
   "metadata": {},
   "source": [
    "### Problem Statement Part One\n",
    "\n",
    "1. Generate, `numpy.random.normal()` , a sample of one hundred thousand values using the function with mean 10.0 and standard deviation 3.0.\n",
    "\n",
    "#### Solution\n",
    "\n",
    "*Normal distribution, also known as the Gaussian distribution, is a probability distribution that is symmetric about the mean, showing that data near the mean are more frequent in occurrence than data far from the mean* (Chen, 2021).\n",
    "\n",
    "The characteristic standard distribution bell curve is illustrated below demonstrating that there is a 95.4% chance that a value will fall within 2 standard deviations of the mean. \n",
    "\n",
    "![Normal Distribution Curve](images/task_2/Standard_deviation_diagram_micro.svg.png \"Normal Distribution Curve\")\n",
    "\n",
    "<sub>By Ainali - Own work, CC BY-SA 3.0, https://commons.wikimedia.org/w/index.php?curid=3141713</sub>\n",
    "\n",
    "The code in the solution below is based on code from\n",
    "1. [https://numpy.org/doc/stable/reference/random/generated/numpy.random.Generator.normal.html#numpy.random.Generator.normal](https://numpy.org/doc/stable/reference/random/generated/numpy.random.Generator.normal.html#numpy.random.Generator.normal), accessed 21 Oct. 2024.\n",
    "\n",
    "2. [https://realpython.com/numpy-random-normal/](https://realpython.com/numpy-random-normal/), accessed 21 Oct. 2024.\n"
   ]
  },
  {
   "cell_type": "code",
   "execution_count": 19,
   "metadata": {},
   "outputs": [],
   "source": [
    "# define variables - no of values to be generated, mean and standard deviation\n",
    "n, mu, sigma = 100000, 10.0, 3.0"
   ]
  },
  {
   "cell_type": "code",
   "execution_count": 20,
   "metadata": {},
   "outputs": [],
   "source": [
    "# define random generator\n",
    "rng = np.random.default_rng()\n",
    "\n",
    "# randomly generate the requested values\n",
    "values = rng.normal(mu, sigma, size=n)"
   ]
  },
  {
   "cell_type": "markdown",
   "metadata": {},
   "source": [
    "The values generated by *Numpy* can be visualised using a histogram. This demonstrates the *bell curve* plot typical of a Gaussian distribution."
   ]
  },
  {
   "cell_type": "code",
   "execution_count": 21,
   "metadata": {},
   "outputs": [
    {
     "data": {
      "image/png": "[encoded data removed]",
      "text/plain": [
       "<Figure size 1000x500 with 1 Axes>"
      ]
     },
     "metadata": {},
     "output_type": "display_data"
    }
   ],
   "source": [
    "# create a display object\n",
    "fig, ax = plt.subplots()\n",
    "\n",
    "# plot histogram of the data\n",
    "ax.hist(values, bins=100)\n",
    "ax.set_title(f'Random Distribution of {n} Values, Mean = {mu}, SD = {sigma}')\n",
    "ax.set_xlabel('Value')\n",
    "ax.set_ylabel('Count');"
   ]
  },
  {
   "cell_type": "markdown",
   "metadata": {},
   "source": [
    "### Problem Statement Part Two\n",
    "\n",
    "2. Use the `scipy.stats.shapiro()` function to test whether the sample generated comes from a normal distribution. Explain the results and output.\n",
    "\n",
    "#### Solution\n",
    "\n"
   ]
  },
  {
   "cell_type": "markdown",
   "metadata": {},
   "source": [
    "### Problem Statement Part Three\n",
    "\n",
    "3. Plot a histogram of the values and plot the corresponding normal distribution probability density function on top of it."
   ]
  },
  {
   "cell_type": "markdown",
   "metadata": {},
   "source": [
    "### References\n",
    "\n",
    "Chen, J. (2021). Normal Distribution. [online] Investopedia. Available at: https://www.investopedia.com/terms/n/normaldistribution.asp. [Accessed 21 Oct. 2024].\n",
    "\n",
    "Numpy.org. (2024). numpy.random.Generator.normal — NumPy v2.1 Manual. [online] Available at: https://numpy.org/doc/stable/reference/random/generated/numpy.random.Generator.normal.html# [Accessed 21 Oct. 2024].\n",
    "\n",
    "Python, R. (n.d.). How to Get Normally Distributed Random Numbers With NumPy – Real Python. [online] realpython.com. Available at: https://realpython.com/numpy-random-normal/. [Accessed 21 Oct. 2024]\n",
    "\n",
    "Wikipedia Contributors (2019). Probability distribution. [online] Wikipedia. Available at: https://en.wikipedia.org/wiki/Probability_distribution. [Accessed 21 Oct. 2024]."
   ]
  },
  {
   "cell_type": "markdown",
   "metadata": {},
   "source": [
    "---"
   ]
  },
  {
   "cell_type": "markdown",
   "metadata": {},
   "source": [
    "## Task 3: t-Test Calculation"
   ]
  },
  {
   "cell_type": "markdown",
   "metadata": {},
   "source": [
    "### Problem Statement\n",
    "\n",
    "Consider the following dataset containing resting heart rates for patients before and after embarking on a two-week exercise program.\n",
    "\n",
    "| Patient ID |  0 |  1 |  2 |  3 |  4 |  5 |  6 |  7 |  8 |  9 |\n",
    "|:-----------|---:|---:|---:|---:|---:|---:|---:|---:|---:|---:|\n",
    "| Before     | 63 | 68 | 70 | 64 | 74 | 67 | 70 | 57 | 66 | 65 |\n",
    "| After      | 64 | 64 | 68 | 64 | 73 | 70 | 72 | 54 | 61 | 63 |\n",
    "\n",
    "1. Calculate the t-statistic based on this data set, using Python.\n",
    "\n",
    "2. Compare it to the value given by `scipy.stats`.\n",
    "\n",
    "3. Explain your work and list any sources used."
   ]
  },
  {
   "cell_type": "markdown",
   "metadata": {},
   "source": [
    "### References"
   ]
  },
  {
   "cell_type": "markdown",
   "metadata": {},
   "source": [
    "---"
   ]
  },
  {
   "cell_type": "markdown",
   "metadata": {
    "vscode": {
     "languageId": "plaintext"
    }
   },
   "source": [
    "## Task 4: ANOVA"
   ]
  },
  {
   "cell_type": "markdown",
   "metadata": {},
   "source": [
    "### Problem Statement\n",
    "\n",
    "In this test the probability of committing a type II error in specific circumstances is estimated.\n",
    "\n",
    "1. To begin, create a variable called `no_type_ii` and set it to `0`.\n",
    "\n",
    "2. Use a loop to perform the following test 10,000 times.\n",
    "\n",
    "3. Use `numpy.random.normal` to generate three samples with 100 values each. Give each a standard deviation of `0.1`. Give the first sample a mean of `4.9`, the second a mean of `5.0`, and the third a mean of `5.1`. \n",
    "\n",
    "4. Perform one-way anova on the three samples and add `1` to `no_type_ii` whenever a type II error occurs.\n",
    "\n",
    "5. Summarize and explain your results."
   ]
  },
  {
   "cell_type": "markdown",
   "metadata": {},
   "source": [
    "### References"
   ]
  },
  {
   "cell_type": "markdown",
   "metadata": {},
   "source": [
    "---"
   ]
  },
  {
   "cell_type": "markdown",
   "metadata": {},
   "source": [
    "Notebook ends."
   ]
  }
 ],
 "metadata": {
  "kernelspec": {
   "display_name": "base",
   "language": "python",
   "name": "python3"
  },
  "language_info": {
   "codemirror_mode": {
    "name": "ipython",
    "version": 3
   },
   "file_extension": ".py",
   "mimetype": "text/x-python",
   "name": "python",
   "nbconvert_exporter": "python",
   "pygments_lexer": "ipython3",
   "version": "3.11.9"
  }
 },
 "nbformat": 4,
 "nbformat_minor": 2
}
