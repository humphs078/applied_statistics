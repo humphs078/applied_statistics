{
 "cells": [
  {
   "cell_type": "markdown",
   "metadata": {},
   "source": [
    "# Applied Statistics Tasks Notebook\n",
    "\n",
    "Author: Sean Humphreys\n",
    "\n",
    "Contact: sean@cruaghgreen.com\n",
    "\n",
    "This Jupyter Notebook contains the solutions to the tasks for the 2024 Applied Statistics module on the ATU Mayo/Galway Higher Diploma in Science in Computing in Data Analytics"
   ]
  },
  {
   "cell_type": "markdown",
   "metadata": {},
   "source": [
    "## Contents"
   ]
  },
  {
   "cell_type": "markdown",
   "metadata": {},
   "source": [
    "---"
   ]
  },
  {
   "cell_type": "markdown",
   "metadata": {
    "vscode": {
     "languageId": "plaintext"
    }
   },
   "source": [
    "## Task 1: Permutations and Combinations"
   ]
  },
  {
   "cell_type": "markdown",
   "metadata": {},
   "source": [
    "### Problem Statement\n",
    "\n",
    "Suppose the Lady Tasting Tea experiment is altered to involve twelve cups of tea. Six have the milk in first and the other six having tea in first. A person claims that they have the special power of being able to tell if the tea or the milk went into a cup first upon tasting it. You agree to accept their claim if they can tell which of the six cups in your experiment had the milk in first.\n",
    "\n",
    "1. Calculate, using Python, the probability that they select the correct six cups. \n",
    "\n",
    "**Assumption** - they have no special powers in figuring it out, they are guessing.\n",
    "\n",
    "Suppose, now, you are willing to accept one error. Once they select the six cups they think had the milk in first, you will give them the benefit of the doubt should they have selected at least five of the correct cups. \n",
    "\n",
    "2. Calculate the probability, assuming they have no special powers, that the person makes at most one error.\n",
    "\n",
    "3. Would you accept two errors? Explain."
   ]
  },
  {
   "cell_type": "markdown",
   "metadata": {},
   "source": [
    "### References"
   ]
  },
  {
   "cell_type": "markdown",
   "metadata": {},
   "source": [
    "---"
   ]
  },
  {
   "cell_type": "markdown",
   "metadata": {},
   "source": [
    "## Task 2: Numpy's Normal Distribution"
   ]
  },
  {
   "cell_type": "markdown",
   "metadata": {},
   "source": [
    "### Problem Statement\n",
    "\n",
    "1. Generate, `numpy.random.normal()` , a sample of one hundred thousand values using the function with mean 10.0 and standard deviation 3.0.\n",
    "\n",
    "2. Use the `scipy.stats.shapiro()` function to test whether the sample generated comes from a normal distribution. Explain the results and output.\n",
    "\n",
    "3. Plot a histogram of the values and plot the corresponding normal distribution probability density function on top of it."
   ]
  },
  {
   "cell_type": "markdown",
   "metadata": {},
   "source": [
    "### References"
   ]
  },
  {
   "cell_type": "markdown",
   "metadata": {},
   "source": [
    "---"
   ]
  },
  {
   "cell_type": "markdown",
   "metadata": {},
   "source": [
    "## Task 3: t-Test Calculation"
   ]
  },
  {
   "cell_type": "markdown",
   "metadata": {},
   "source": [
    "### Problem Statement\n",
    "\n",
    "Consider the following dataset containing resting heart rates for patients before and after embarking on a two-week exercise program.\n",
    "\n",
    "| Patient ID |  0 |  1 |  2 |  3 |  4 |  5 |  6 |  7 |  8 |  9 |\n",
    "|:-----------|---:|---:|---:|---:|---:|---:|---:|---:|---:|---:|\n",
    "| Before     | 63 | 68 | 70 | 64 | 74 | 67 | 70 | 57 | 66 | 65 |\n",
    "| After      | 64 | 64 | 68 | 64 | 73 | 70 | 72 | 54 | 61 | 63 |\n",
    "\n",
    "1. Calculate the t-statistic based on this data set, using Python.\n",
    "\n",
    "2. Compare it to the value given by `scipy.stats`.\n",
    "\n",
    "3. Explain your work and list any sources used."
   ]
  },
  {
   "cell_type": "markdown",
   "metadata": {},
   "source": [
    "### References"
   ]
  },
  {
   "cell_type": "markdown",
   "metadata": {},
   "source": [
    "---"
   ]
  },
  {
   "cell_type": "markdown",
   "metadata": {
    "vscode": {
     "languageId": "plaintext"
    }
   },
   "source": [
    "## Task 4: ANOVA"
   ]
  },
  {
   "cell_type": "markdown",
   "metadata": {},
   "source": [
    "### Problem Statement\n",
    "\n",
    "In this test the probability of committing a type II error in specific circumstances is estimated.\n",
    "\n",
    "1. To begin, create a variable called `no_type_ii` and set it to `0`.\n",
    "\n",
    "2. Use a loop to perform the following test 10,000 times.\n",
    "\n",
    "3. Use `numpy.random.normal` to generate three samples with 100 values each. Give each a standard deviation of `0.1`. Give the first sample a mean of `4.9`, the second a mean of `5.0`, and the third a mean of `5.1`. \n",
    "\n",
    "4. Perform one-way anova on the three samples and add `1` to `no_type_ii` whenever a type II error occurs.\n",
    "\n",
    "5. Summarize and explain your results."
   ]
  },
  {
   "cell_type": "markdown",
   "metadata": {},
   "source": [
    "### References"
   ]
  },
  {
   "cell_type": "markdown",
   "metadata": {},
   "source": [
    "---"
   ]
  },
  {
   "cell_type": "markdown",
   "metadata": {},
   "source": [
    "Notebook ends."
   ]
  }
 ],
 "metadata": {
  "kernelspec": {
   "display_name": "base",
   "language": "python",
   "name": "python3"
  },
  "language_info": {
   "codemirror_mode": {
    "name": "ipython",
    "version": 3
   },
   "file_extension": ".py",
   "mimetype": "text/x-python",
   "name": "python",
   "nbconvert_exporter": "python",
   "pygments_lexer": "ipython3",
   "version": "3.11.9"
  }
 },
 "nbformat": 4,
 "nbformat_minor": 2
}
